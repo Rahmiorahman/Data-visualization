{
 "cells": [
  {
   "cell_type": "code",
   "execution_count": null,
   "id": "79704ecf",
   "metadata": {},
   "outputs": [],
   "source": [
    "import tensorflow as tf\n",
    "import matplotlib.pyplot as plt\n",
    "import numpy as np\n"
   ]
  },
  {
   "cell_type": "code",
   "execution_count": null,
   "id": "9115b28d",
   "metadata": {},
   "outputs": [],
   "source": [
    "learning_rate = 0.01\n",
    "training_epochs = 2000\n",
    "display_step = 50\n",
    "n_samples = 11\n",
    "batch_size = 11\n",
    "total_batch = int(n_samples/batch_size)"
   ]
  },
  {
   "cell_type": "code",
   "execution_count": null,
   "id": "89d081b7",
   "metadata": {},
   "outputs": [],
   "source": [
    "print(('your tensorflow version:{}').format(tf.__version__))"
   ]
  },
  {
   "cell_type": "code",
   "execution_count": null,
   "id": "88a55eae",
   "metadata": {},
   "outputs": [],
   "source": [
    "import numpy as np\n",
    "import logging\n",
    "logger = tf.get_logger()\n",
    "logger.setLevel(logging.ERROR)"
   ]
  },
  {
   "cell_type": "code",
   "execution_count": null,
   "id": "0cb87298",
   "metadata": {},
   "outputs": [],
   "source": [
    "#set up the training data\n",
    "\n",
    "celsius_q    = np.array([-40, -10,  0,  8, 15, 22,  38],  dtype=float)\n",
    "fahrenheit_a = np.array([-40,  14, 32, 46, 59, 72, 100],  dtype=float)\n",
    "for i,c in enumerate(celsius_q):\n",
    "    print('{},degree celsius = degree fahrenheit{}'.format(c,fahrenheit_a[i]))\n"
   ]
  },
  {
   "cell_type": "code",
   "execution_count": null,
   "id": "f4eb7d92",
   "metadata": {},
   "outputs": [],
   "source": [
    "model = tf.keras.Sequential([neural])"
   ]
  },
  {
   "cell_type": "code",
   "execution_count": null,
   "id": "32930a47",
   "metadata": {},
   "outputs": [],
   "source": [
    "#buid layers\n",
    "neural = tf.keras.layers.Dense(units =1, input_shape=[1])"
   ]
  },
  {
   "cell_type": "code",
   "execution_count": null,
   "id": "c257ea6f",
   "metadata": {},
   "outputs": [],
   "source": []
  },
  {
   "cell_type": "code",
   "execution_count": null,
   "id": "5c53fdb9",
   "metadata": {},
   "outputs": [],
   "source": [
    "#build a model ,assemble layers into a model\n",
    "model =tf.keras.Sequential([tf.keras.layers.Dense(units =1, input_shape=[1])])"
   ]
  },
  {
   "cell_type": "code",
   "execution_count": null,
   "id": "65acfafa",
   "metadata": {},
   "outputs": [],
   "source": [
    "#compil the model\n",
    "model.compile(loss = \"mean_squared_error\",optimizer =tf.keras.optimizers.Adam(0.1))"
   ]
  },
  {
   "cell_type": "code",
   "execution_count": null,
   "id": "dc3d4bac",
   "metadata": {},
   "outputs": [],
   "source": [
    "#Train the model\n",
    "history = model.fit(celsius_q,fahrenheit_a,epochs=500,verbose =False)"
   ]
  },
  {
   "cell_type": "code",
   "execution_count": null,
   "id": "eef350f5",
   "metadata": {},
   "outputs": [],
   "source": [
    "print('finished training the model')"
   ]
  },
  {
   "cell_type": "code",
   "execution_count": null,
   "id": "f9e46099",
   "metadata": {},
   "outputs": [],
   "source": [
    "print(model.predict([100.0]))"
   ]
  },
  {
   "cell_type": "code",
   "execution_count": null,
   "id": "fb956fb8",
   "metadata": {
    "scrolled": true
   },
   "outputs": [],
   "source": [
    "import matplotlib.pyplot as plt\n",
    "plt.xlabel('epochs numbers',c='g',fontsize=10)\n",
    "plt.ylabel('loss magnitude',fontsize = 20)\n",
    "plt.plot(history.history['loss'])"
   ]
  },
  {
   "cell_type": "code",
   "execution_count": null,
   "id": "7b2b3a31",
   "metadata": {},
   "outputs": [],
   "source": [
    "#layer weights\n",
    "print(\"This are the layers variables:{}\".format(neural.get_weights()))"
   ]
  },
  {
   "cell_type": "code",
   "execution_count": null,
   "id": "ef02558f",
   "metadata": {},
   "outputs": [],
   "source": [
    "#set training data \n",
    "voltage_ratio =np.array([ 0,0.1, 0.2, 0.3 ,0.4, 0.5 ,0.6 ,0.7, 0.8 ,0.9, 1.0])\n",
    "β_θ =np.array([210 ,203 ,197 ,190 ,183 ,175, 167, 158 ,147, 132, 90])\n"
   ]
  },
  {
   "cell_type": "code",
   "execution_count": null,
   "id": "9f14d146",
   "metadata": {},
   "outputs": [],
   "source": [
    "slp = tf.keras.layers.Dense(units =1 , input_shape=[1])\n",
    "model =tf.keras.Sequential([slp])\n",
    "model =tf.keras.Sequential(tf.keras.layers.Dense(units =1 , input_shape=[1]))\n",
    "model.compile(loss = \"mean_squared_error\", optimizer =tf.keras.optimizers.Adam(0.1))\n",
    "train =model.fit(voltage_ratio,β_θ ,epochs =4000, verbose= False)\n",
    "print('These are the  layer variables:{}'.format(slp.get_weights()))"
   ]
  },
  {
   "cell_type": "code",
   "execution_count": null,
   "id": "f8012903",
   "metadata": {},
   "outputs": [],
   "source": [
    "print(model.predict([1]))"
   ]
  },
  {
   "cell_type": "code",
   "execution_count": null,
   "id": "5149b066",
   "metadata": {
    "scrolled": true
   },
   "outputs": [],
   "source": [
    "plt.xlabel('epoch numbers')\n",
    "plt.ylabel('magnitude loss')\n",
    "plt.plot(train.history['loss'])"
   ]
  },
  {
   "cell_type": "code",
   "execution_count": null,
   "id": "27b0b4f1",
   "metadata": {},
   "outputs": [],
   "source": [
    "!pip install -U tensorflow_datasets"
   ]
  },
  {
   "cell_type": "code",
   "execution_count": null,
   "id": "4db23ea5",
   "metadata": {},
   "outputs": [],
   "source": [
    "# Import TensorFlow Datasets\n",
    "import tensorflow_datasets as tfds\n",
    "tfds.disable_progress_bar()\n",
    "\n",
    "# Helper libraries\n",
    "import math\n",
    "import numpy as np\n",
    "import matplotlib.pyplot as plt"
   ]
  },
  {
   "cell_type": "code",
   "execution_count": null,
   "id": "a3e0aa99",
   "metadata": {},
   "outputs": [],
   "source": [
    "dataset, metadata = tfds.load('fashion_mnist', as_supervised=True, with_info=True)\n",
    "train_dataset, test_dataset = dataset['train'], dataset['test']"
   ]
  },
  {
   "cell_type": "code",
   "execution_count": null,
   "id": "c805a56b",
   "metadata": {},
   "outputs": [],
   "source": [
    "class_names =metadata.features['labels'].names\n",
    "print(class_names)"
   ]
  },
  {
   "cell_type": "code",
   "execution_count": null,
   "id": "ea35eefb",
   "metadata": {},
   "outputs": [],
   "source": [
    "train_examples = metadata.splits['train'].num_examples\n",
    "test_examples = metadata.splits['test'].num_examples\n",
    "print('trainded ,{}'.format(train_examples))\n",
    "pritn('test,{}'.foramt(test_examples))"
   ]
  },
  {
   "cell_type": "code",
   "execution_count": 1,
   "id": "5655d41c",
   "metadata": {},
   "outputs": [
    {
     "ename": "NameError",
     "evalue": "name 'pd' is not defined",
     "output_type": "error",
     "traceback": [
      "\u001b[1;31m---------------------------------------------------------------------------\u001b[0m",
      "\u001b[1;31mNameError\u001b[0m                                 Traceback (most recent call last)",
      "\u001b[1;32m<ipython-input-1-b006a2bda20c>\u001b[0m in \u001b[0;36m<module>\u001b[1;34m\u001b[0m\n\u001b[0;32m      3\u001b[0m                 'Acceleration', 'Model Year', 'Origin']\n\u001b[0;32m      4\u001b[0m \u001b[1;33m\u001b[0m\u001b[0m\n\u001b[1;32m----> 5\u001b[1;33m raw_dataset = pd.read_csv(url, names=column_names,\n\u001b[0m\u001b[0;32m      6\u001b[0m                           \u001b[0mna_values\u001b[0m\u001b[1;33m=\u001b[0m\u001b[1;34m'?'\u001b[0m\u001b[1;33m,\u001b[0m \u001b[0mcomment\u001b[0m\u001b[1;33m=\u001b[0m\u001b[1;34m'\\t'\u001b[0m\u001b[1;33m,\u001b[0m\u001b[1;33m\u001b[0m\u001b[1;33m\u001b[0m\u001b[0m\n\u001b[0;32m      7\u001b[0m                           sep=' ', skipinitialspace=True)\n",
      "\u001b[1;31mNameError\u001b[0m: name 'pd' is not defined"
     ]
    }
   ],
   "source": [
    "url = 'http://archive.ics.uci.edu/ml/machine-learning-databases/auto-mpg/auto-mpg.data'\n",
    "column_names = ['MPG', 'Cylinders', 'Displacement', 'Horsepower', 'Weight',\n",
    "                'Acceleration', 'Model Year', 'Origin']\n",
    "\n",
    "raw_dataset = pd.read_csv(url, names=column_names,\n",
    "                          na_values='?', comment='\\t',\n",
    "                          sep=' ', skipinitialspace=True)"
   ]
  },
  {
   "cell_type": "code",
   "execution_count": null,
   "id": "dc873b67",
   "metadata": {},
   "outputs": [],
   "source": []
  },
  {
   "cell_type": "code",
   "execution_count": null,
   "id": "1e5a1d77",
   "metadata": {},
   "outputs": [],
   "source": []
  },
  {
   "cell_type": "code",
   "execution_count": null,
   "id": "5e4d8d81",
   "metadata": {},
   "outputs": [],
   "source": []
  },
  {
   "cell_type": "code",
   "execution_count": null,
   "id": "a3aafc7f",
   "metadata": {},
   "outputs": [],
   "source": []
  }
 ],
 "metadata": {
  "kernelspec": {
   "display_name": "Python 3",
   "language": "python",
   "name": "python3"
  },
  "language_info": {
   "codemirror_mode": {
    "name": "ipython",
    "version": 3
   },
   "file_extension": ".py",
   "mimetype": "text/x-python",
   "name": "python",
   "nbconvert_exporter": "python",
   "pygments_lexer": "ipython3",
   "version": "3.8.8"
  }
 },
 "nbformat": 4,
 "nbformat_minor": 5
}
